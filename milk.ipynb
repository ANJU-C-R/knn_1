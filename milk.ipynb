{
 "cells": [
  {
   "cell_type": "code",
   "execution_count": 2,
   "metadata": {},
   "outputs": [
    {
     "data": {
      "text/html": [
       "<div>\n",
       "<style scoped>\n",
       "    .dataframe tbody tr th:only-of-type {\n",
       "        vertical-align: middle;\n",
       "    }\n",
       "\n",
       "    .dataframe tbody tr th {\n",
       "        vertical-align: top;\n",
       "    }\n",
       "\n",
       "    .dataframe thead th {\n",
       "        text-align: right;\n",
       "    }\n",
       "</style>\n",
       "<table border=\"1\" class=\"dataframe\">\n",
       "  <thead>\n",
       "    <tr style=\"text-align: right;\">\n",
       "      <th></th>\n",
       "      <th>pH</th>\n",
       "      <th>Temprature</th>\n",
       "      <th>Taste</th>\n",
       "      <th>Odor</th>\n",
       "      <th>Fat</th>\n",
       "      <th>Turbidity</th>\n",
       "      <th>Colour</th>\n",
       "      <th>Grade</th>\n",
       "    </tr>\n",
       "  </thead>\n",
       "  <tbody>\n",
       "    <tr>\n",
       "      <th>0</th>\n",
       "      <td>6.6</td>\n",
       "      <td>35</td>\n",
       "      <td>1</td>\n",
       "      <td>0</td>\n",
       "      <td>1</td>\n",
       "      <td>0</td>\n",
       "      <td>254</td>\n",
       "      <td>high</td>\n",
       "    </tr>\n",
       "    <tr>\n",
       "      <th>1</th>\n",
       "      <td>6.6</td>\n",
       "      <td>36</td>\n",
       "      <td>0</td>\n",
       "      <td>1</td>\n",
       "      <td>0</td>\n",
       "      <td>1</td>\n",
       "      <td>253</td>\n",
       "      <td>high</td>\n",
       "    </tr>\n",
       "    <tr>\n",
       "      <th>2</th>\n",
       "      <td>8.5</td>\n",
       "      <td>70</td>\n",
       "      <td>1</td>\n",
       "      <td>1</td>\n",
       "      <td>1</td>\n",
       "      <td>1</td>\n",
       "      <td>246</td>\n",
       "      <td>low</td>\n",
       "    </tr>\n",
       "    <tr>\n",
       "      <th>3</th>\n",
       "      <td>9.5</td>\n",
       "      <td>34</td>\n",
       "      <td>1</td>\n",
       "      <td>1</td>\n",
       "      <td>0</td>\n",
       "      <td>1</td>\n",
       "      <td>255</td>\n",
       "      <td>low</td>\n",
       "    </tr>\n",
       "    <tr>\n",
       "      <th>4</th>\n",
       "      <td>6.6</td>\n",
       "      <td>37</td>\n",
       "      <td>0</td>\n",
       "      <td>0</td>\n",
       "      <td>0</td>\n",
       "      <td>0</td>\n",
       "      <td>255</td>\n",
       "      <td>medium</td>\n",
       "    </tr>\n",
       "    <tr>\n",
       "      <th>...</th>\n",
       "      <td>...</td>\n",
       "      <td>...</td>\n",
       "      <td>...</td>\n",
       "      <td>...</td>\n",
       "      <td>...</td>\n",
       "      <td>...</td>\n",
       "      <td>...</td>\n",
       "      <td>...</td>\n",
       "    </tr>\n",
       "    <tr>\n",
       "      <th>1054</th>\n",
       "      <td>6.7</td>\n",
       "      <td>45</td>\n",
       "      <td>1</td>\n",
       "      <td>1</td>\n",
       "      <td>0</td>\n",
       "      <td>0</td>\n",
       "      <td>247</td>\n",
       "      <td>medium</td>\n",
       "    </tr>\n",
       "    <tr>\n",
       "      <th>1055</th>\n",
       "      <td>6.7</td>\n",
       "      <td>38</td>\n",
       "      <td>1</td>\n",
       "      <td>0</td>\n",
       "      <td>1</td>\n",
       "      <td>0</td>\n",
       "      <td>255</td>\n",
       "      <td>high</td>\n",
       "    </tr>\n",
       "    <tr>\n",
       "      <th>1056</th>\n",
       "      <td>3.0</td>\n",
       "      <td>40</td>\n",
       "      <td>1</td>\n",
       "      <td>1</td>\n",
       "      <td>1</td>\n",
       "      <td>1</td>\n",
       "      <td>255</td>\n",
       "      <td>low</td>\n",
       "    </tr>\n",
       "    <tr>\n",
       "      <th>1057</th>\n",
       "      <td>6.8</td>\n",
       "      <td>43</td>\n",
       "      <td>1</td>\n",
       "      <td>0</td>\n",
       "      <td>1</td>\n",
       "      <td>0</td>\n",
       "      <td>250</td>\n",
       "      <td>high</td>\n",
       "    </tr>\n",
       "    <tr>\n",
       "      <th>1058</th>\n",
       "      <td>8.6</td>\n",
       "      <td>55</td>\n",
       "      <td>0</td>\n",
       "      <td>1</td>\n",
       "      <td>1</td>\n",
       "      <td>1</td>\n",
       "      <td>255</td>\n",
       "      <td>low</td>\n",
       "    </tr>\n",
       "  </tbody>\n",
       "</table>\n",
       "<p>1059 rows × 8 columns</p>\n",
       "</div>"
      ],
      "text/plain": [
       "       pH  Temprature  Taste  Odor  Fat   Turbidity  Colour   Grade\n",
       "0     6.6          35      1     0     1          0     254    high\n",
       "1     6.6          36      0     1     0          1     253    high\n",
       "2     8.5          70      1     1     1          1     246     low\n",
       "3     9.5          34      1     1     0          1     255     low\n",
       "4     6.6          37      0     0     0          0     255  medium\n",
       "...   ...         ...    ...   ...   ...        ...     ...     ...\n",
       "1054  6.7          45      1     1     0          0     247  medium\n",
       "1055  6.7          38      1     0     1          0     255    high\n",
       "1056  3.0          40      1     1     1          1     255     low\n",
       "1057  6.8          43      1     0     1          0     250    high\n",
       "1058  8.6          55      0     1     1          1     255     low\n",
       "\n",
       "[1059 rows x 8 columns]"
      ]
     },
     "execution_count": 2,
     "metadata": {},
     "output_type": "execute_result"
    }
   ],
   "source": [
    "#Milk Quality Prediction\n",
    "\n",
    "#Loading dataset\n",
    "import numpy as np \n",
    "import pandas as pd \n",
    "df=pd.read_csv(\"milknew.csv\")\n",
    "df"
   ]
  },
  {
   "cell_type": "code",
   "execution_count": 3,
   "metadata": {},
   "outputs": [
    {
     "data": {
      "text/html": [
       "<div>\n",
       "<style scoped>\n",
       "    .dataframe tbody tr th:only-of-type {\n",
       "        vertical-align: middle;\n",
       "    }\n",
       "\n",
       "    .dataframe tbody tr th {\n",
       "        vertical-align: top;\n",
       "    }\n",
       "\n",
       "    .dataframe thead th {\n",
       "        text-align: right;\n",
       "    }\n",
       "</style>\n",
       "<table border=\"1\" class=\"dataframe\">\n",
       "  <thead>\n",
       "    <tr style=\"text-align: right;\">\n",
       "      <th></th>\n",
       "      <th>pH</th>\n",
       "      <th>Temprature</th>\n",
       "      <th>Taste</th>\n",
       "      <th>Odor</th>\n",
       "      <th>Fat</th>\n",
       "      <th>Turbidity</th>\n",
       "      <th>Colour</th>\n",
       "      <th>Grade</th>\n",
       "    </tr>\n",
       "  </thead>\n",
       "  <tbody>\n",
       "    <tr>\n",
       "      <th>0</th>\n",
       "      <td>6.6</td>\n",
       "      <td>35</td>\n",
       "      <td>1</td>\n",
       "      <td>0</td>\n",
       "      <td>1</td>\n",
       "      <td>0</td>\n",
       "      <td>254</td>\n",
       "      <td>high</td>\n",
       "    </tr>\n",
       "    <tr>\n",
       "      <th>1</th>\n",
       "      <td>6.6</td>\n",
       "      <td>36</td>\n",
       "      <td>0</td>\n",
       "      <td>1</td>\n",
       "      <td>0</td>\n",
       "      <td>1</td>\n",
       "      <td>253</td>\n",
       "      <td>high</td>\n",
       "    </tr>\n",
       "    <tr>\n",
       "      <th>2</th>\n",
       "      <td>8.5</td>\n",
       "      <td>70</td>\n",
       "      <td>1</td>\n",
       "      <td>1</td>\n",
       "      <td>1</td>\n",
       "      <td>1</td>\n",
       "      <td>246</td>\n",
       "      <td>low</td>\n",
       "    </tr>\n",
       "    <tr>\n",
       "      <th>3</th>\n",
       "      <td>9.5</td>\n",
       "      <td>34</td>\n",
       "      <td>1</td>\n",
       "      <td>1</td>\n",
       "      <td>0</td>\n",
       "      <td>1</td>\n",
       "      <td>255</td>\n",
       "      <td>low</td>\n",
       "    </tr>\n",
       "    <tr>\n",
       "      <th>4</th>\n",
       "      <td>6.6</td>\n",
       "      <td>37</td>\n",
       "      <td>0</td>\n",
       "      <td>0</td>\n",
       "      <td>0</td>\n",
       "      <td>0</td>\n",
       "      <td>255</td>\n",
       "      <td>medium</td>\n",
       "    </tr>\n",
       "  </tbody>\n",
       "</table>\n",
       "</div>"
      ],
      "text/plain": [
       "    pH  Temprature  Taste  Odor  Fat   Turbidity  Colour   Grade\n",
       "0  6.6          35      1     0     1          0     254    high\n",
       "1  6.6          36      0     1     0          1     253    high\n",
       "2  8.5          70      1     1     1          1     246     low\n",
       "3  9.5          34      1     1     0          1     255     low\n",
       "4  6.6          37      0     0     0          0     255  medium"
      ]
     },
     "execution_count": 3,
     "metadata": {},
     "output_type": "execute_result"
    }
   ],
   "source": [
    "df.head()"
   ]
  },
  {
   "cell_type": "code",
   "execution_count": 4,
   "metadata": {},
   "outputs": [
    {
     "data": {
      "text/html": [
       "<div>\n",
       "<style scoped>\n",
       "    .dataframe tbody tr th:only-of-type {\n",
       "        vertical-align: middle;\n",
       "    }\n",
       "\n",
       "    .dataframe tbody tr th {\n",
       "        vertical-align: top;\n",
       "    }\n",
       "\n",
       "    .dataframe thead th {\n",
       "        text-align: right;\n",
       "    }\n",
       "</style>\n",
       "<table border=\"1\" class=\"dataframe\">\n",
       "  <thead>\n",
       "    <tr style=\"text-align: right;\">\n",
       "      <th></th>\n",
       "      <th>pH</th>\n",
       "      <th>Temprature</th>\n",
       "      <th>Taste</th>\n",
       "      <th>Odor</th>\n",
       "      <th>Fat</th>\n",
       "      <th>Turbidity</th>\n",
       "      <th>Colour</th>\n",
       "      <th>Grade</th>\n",
       "    </tr>\n",
       "  </thead>\n",
       "  <tbody>\n",
       "    <tr>\n",
       "      <th>1054</th>\n",
       "      <td>6.7</td>\n",
       "      <td>45</td>\n",
       "      <td>1</td>\n",
       "      <td>1</td>\n",
       "      <td>0</td>\n",
       "      <td>0</td>\n",
       "      <td>247</td>\n",
       "      <td>medium</td>\n",
       "    </tr>\n",
       "    <tr>\n",
       "      <th>1055</th>\n",
       "      <td>6.7</td>\n",
       "      <td>38</td>\n",
       "      <td>1</td>\n",
       "      <td>0</td>\n",
       "      <td>1</td>\n",
       "      <td>0</td>\n",
       "      <td>255</td>\n",
       "      <td>high</td>\n",
       "    </tr>\n",
       "    <tr>\n",
       "      <th>1056</th>\n",
       "      <td>3.0</td>\n",
       "      <td>40</td>\n",
       "      <td>1</td>\n",
       "      <td>1</td>\n",
       "      <td>1</td>\n",
       "      <td>1</td>\n",
       "      <td>255</td>\n",
       "      <td>low</td>\n",
       "    </tr>\n",
       "    <tr>\n",
       "      <th>1057</th>\n",
       "      <td>6.8</td>\n",
       "      <td>43</td>\n",
       "      <td>1</td>\n",
       "      <td>0</td>\n",
       "      <td>1</td>\n",
       "      <td>0</td>\n",
       "      <td>250</td>\n",
       "      <td>high</td>\n",
       "    </tr>\n",
       "    <tr>\n",
       "      <th>1058</th>\n",
       "      <td>8.6</td>\n",
       "      <td>55</td>\n",
       "      <td>0</td>\n",
       "      <td>1</td>\n",
       "      <td>1</td>\n",
       "      <td>1</td>\n",
       "      <td>255</td>\n",
       "      <td>low</td>\n",
       "    </tr>\n",
       "  </tbody>\n",
       "</table>\n",
       "</div>"
      ],
      "text/plain": [
       "       pH  Temprature  Taste  Odor  Fat   Turbidity  Colour   Grade\n",
       "1054  6.7          45      1     1     0          0     247  medium\n",
       "1055  6.7          38      1     0     1          0     255    high\n",
       "1056  3.0          40      1     1     1          1     255     low\n",
       "1057  6.8          43      1     0     1          0     250    high\n",
       "1058  8.6          55      0     1     1          1     255     low"
      ]
     },
     "execution_count": 4,
     "metadata": {},
     "output_type": "execute_result"
    }
   ],
   "source": [
    "df.tail()"
   ]
  },
  {
   "cell_type": "code",
   "execution_count": null,
   "metadata": {},
   "outputs": [
    {
     "data": {
      "text/plain": [
       "(1059, 8)"
      ]
     },
     "execution_count": 5,
     "metadata": {},
     "output_type": "execute_result"
    }
   ],
   "source": [
    "#Find the dimensions of the dataframe\n",
    "df.shape"
   ]
  },
  {
   "cell_type": "code",
   "execution_count": 6,
   "metadata": {},
   "outputs": [
    {
     "data": {
      "text/plain": [
       "pH            float64\n",
       "Temprature      int64\n",
       "Taste           int64\n",
       "Odor            int64\n",
       "Fat             int64\n",
       "Turbidity       int64\n",
       "Colour          int64\n",
       "Grade          object\n",
       "dtype: object"
      ]
     },
     "execution_count": 6,
     "metadata": {},
     "output_type": "execute_result"
    }
   ],
   "source": [
    "#checking data types\n",
    "df.dtypes"
   ]
  },
  {
   "cell_type": "code",
   "execution_count": null,
   "metadata": {},
   "outputs": [
    {
     "data": {
      "text/plain": [
       "Index(['pH', 'Temprature', 'Taste', 'Odor', 'Fat ', 'Turbidity', 'Colour',\n",
       "       'Grade'],\n",
       "      dtype='object')"
      ]
     },
     "execution_count": 7,
     "metadata": {},
     "output_type": "execute_result"
    }
   ],
   "source": [
    "#Checking columns\n",
    "df.columns"
   ]
  },
  {
   "cell_type": "code",
   "execution_count": 23,
   "metadata": {},
   "outputs": [
    {
     "data": {
      "text/html": [
       "<div>\n",
       "<style scoped>\n",
       "    .dataframe tbody tr th:only-of-type {\n",
       "        vertical-align: middle;\n",
       "    }\n",
       "\n",
       "    .dataframe tbody tr th {\n",
       "        vertical-align: top;\n",
       "    }\n",
       "\n",
       "    .dataframe thead th {\n",
       "        text-align: right;\n",
       "    }\n",
       "</style>\n",
       "<table border=\"1\" class=\"dataframe\">\n",
       "  <thead>\n",
       "    <tr style=\"text-align: right;\">\n",
       "      <th></th>\n",
       "      <th>pH</th>\n",
       "      <th>Temprature</th>\n",
       "      <th>Taste</th>\n",
       "      <th>Odor</th>\n",
       "      <th>Fat</th>\n",
       "      <th>Turbidity</th>\n",
       "      <th>Colour</th>\n",
       "    </tr>\n",
       "  </thead>\n",
       "  <tbody>\n",
       "    <tr>\n",
       "      <th>count</th>\n",
       "      <td>1059.000000</td>\n",
       "      <td>1059.000000</td>\n",
       "      <td>1059.000000</td>\n",
       "      <td>1059.000000</td>\n",
       "      <td>1059.000000</td>\n",
       "      <td>1059.000000</td>\n",
       "      <td>1059.000000</td>\n",
       "    </tr>\n",
       "    <tr>\n",
       "      <th>mean</th>\n",
       "      <td>6.630123</td>\n",
       "      <td>44.226629</td>\n",
       "      <td>0.546742</td>\n",
       "      <td>0.432483</td>\n",
       "      <td>0.671388</td>\n",
       "      <td>0.491029</td>\n",
       "      <td>251.840415</td>\n",
       "    </tr>\n",
       "    <tr>\n",
       "      <th>std</th>\n",
       "      <td>1.399679</td>\n",
       "      <td>10.098364</td>\n",
       "      <td>0.498046</td>\n",
       "      <td>0.495655</td>\n",
       "      <td>0.469930</td>\n",
       "      <td>0.500156</td>\n",
       "      <td>4.307424</td>\n",
       "    </tr>\n",
       "    <tr>\n",
       "      <th>min</th>\n",
       "      <td>3.000000</td>\n",
       "      <td>34.000000</td>\n",
       "      <td>0.000000</td>\n",
       "      <td>0.000000</td>\n",
       "      <td>0.000000</td>\n",
       "      <td>0.000000</td>\n",
       "      <td>240.000000</td>\n",
       "    </tr>\n",
       "    <tr>\n",
       "      <th>25%</th>\n",
       "      <td>6.500000</td>\n",
       "      <td>38.000000</td>\n",
       "      <td>0.000000</td>\n",
       "      <td>0.000000</td>\n",
       "      <td>0.000000</td>\n",
       "      <td>0.000000</td>\n",
       "      <td>250.000000</td>\n",
       "    </tr>\n",
       "    <tr>\n",
       "      <th>50%</th>\n",
       "      <td>6.700000</td>\n",
       "      <td>41.000000</td>\n",
       "      <td>1.000000</td>\n",
       "      <td>0.000000</td>\n",
       "      <td>1.000000</td>\n",
       "      <td>0.000000</td>\n",
       "      <td>255.000000</td>\n",
       "    </tr>\n",
       "    <tr>\n",
       "      <th>75%</th>\n",
       "      <td>6.800000</td>\n",
       "      <td>45.000000</td>\n",
       "      <td>1.000000</td>\n",
       "      <td>1.000000</td>\n",
       "      <td>1.000000</td>\n",
       "      <td>1.000000</td>\n",
       "      <td>255.000000</td>\n",
       "    </tr>\n",
       "    <tr>\n",
       "      <th>max</th>\n",
       "      <td>9.500000</td>\n",
       "      <td>90.000000</td>\n",
       "      <td>1.000000</td>\n",
       "      <td>1.000000</td>\n",
       "      <td>1.000000</td>\n",
       "      <td>1.000000</td>\n",
       "      <td>255.000000</td>\n",
       "    </tr>\n",
       "  </tbody>\n",
       "</table>\n",
       "</div>"
      ],
      "text/plain": [
       "                pH   Temprature        Taste         Odor         Fat   \\\n",
       "count  1059.000000  1059.000000  1059.000000  1059.000000  1059.000000   \n",
       "mean      6.630123    44.226629     0.546742     0.432483     0.671388   \n",
       "std       1.399679    10.098364     0.498046     0.495655     0.469930   \n",
       "min       3.000000    34.000000     0.000000     0.000000     0.000000   \n",
       "25%       6.500000    38.000000     0.000000     0.000000     0.000000   \n",
       "50%       6.700000    41.000000     1.000000     0.000000     1.000000   \n",
       "75%       6.800000    45.000000     1.000000     1.000000     1.000000   \n",
       "max       9.500000    90.000000     1.000000     1.000000     1.000000   \n",
       "\n",
       "         Turbidity       Colour  \n",
       "count  1059.000000  1059.000000  \n",
       "mean      0.491029   251.840415  \n",
       "std       0.500156     4.307424  \n",
       "min       0.000000   240.000000  \n",
       "25%       0.000000   250.000000  \n",
       "50%       0.000000   255.000000  \n",
       "75%       1.000000   255.000000  \n",
       "max       1.000000   255.000000  "
      ]
     },
     "execution_count": 23,
     "metadata": {},
     "output_type": "execute_result"
    }
   ],
   "source": [
    "df.describe()"
   ]
  },
  {
   "cell_type": "code",
   "execution_count": 9,
   "metadata": {},
   "outputs": [
    {
     "data": {
      "text/plain": [
       "Grade\n",
       "low       429\n",
       "medium    374\n",
       "high      256\n",
       "Name: count, dtype: int64"
      ]
     },
     "execution_count": 9,
     "metadata": {},
     "output_type": "execute_result"
    }
   ],
   "source": [
    "df['Grade'].value_counts()"
   ]
  },
  {
   "cell_type": "code",
   "execution_count": null,
   "metadata": {},
   "outputs": [
    {
     "data": {
      "text/plain": [
       "<matplotlib.legend.Legend at 0x1f28f976110>"
      ]
     },
     "execution_count": 10,
     "metadata": {},
     "output_type": "execute_result"
    },
    {
     "data": {
      "image/png": "[encoded data removed]",
      "text/plain": [
       "<Figure size 600x600 with 1 Axes>"
      ]
     },
     "metadata": {},
     "output_type": "display_data"
    }
   ],
   "source": [
    "#A pie chart is drawn using matplotlib to visualize the class distribution of the \"Grade\" column in a dataset.\n",
    "import matplotlib.pyplot as plt\n",
    "class_counts=df['Grade'].value_counts()\n",
    "plt.figure(figsize=(6, 6))\n",
    "plt.pie(class_counts,labels=class_counts.index,autopct='%1.1f%%', colors=['skyblue', 'lightcoral', 'lightgreen'])\n",
    "plt.title(\"Class Distribution in Target variable\",c='r')\n",
    "plt.legend(loc='lower right')"
   ]
  },
  {
   "cell_type": "code",
   "execution_count": 11,
   "metadata": {},
   "outputs": [
    {
     "data": {
      "text/plain": [
       "pH            0\n",
       "Temprature    0\n",
       "Taste         0\n",
       "Odor          0\n",
       "Fat           0\n",
       "Turbidity     0\n",
       "Colour        0\n",
       "Grade         0\n",
       "dtype: int64"
      ]
     },
     "execution_count": 11,
     "metadata": {},
     "output_type": "execute_result"
    }
   ],
   "source": [
    "#Checking count of missing values in each column\n",
    "df.isna().sum()"
   ]
  },
  {
   "cell_type": "markdown",
   "metadata": {},
   "source": [
    "data has no missing value"
   ]
  },
  {
   "cell_type": "code",
   "execution_count": 12,
   "metadata": {},
   "outputs": [],
   "source": [
    "#Splitting input and output as arrays on x and y\n",
    "x=df.iloc[:,:-1].values\n",
    "y=df.iloc[:,-1].values"
   ]
  },
  {
   "cell_type": "code",
   "execution_count": 13,
   "metadata": {},
   "outputs": [],
   "source": [
    "#Splitting data into training data and testing data\n",
    "from sklearn.model_selection import train_test_split\n",
    "x_train,x_test,y_train,y_test=train_test_split(x,y,test_size=0.30,random_state=0)"
   ]
  },
  {
   "cell_type": "code",
   "execution_count": 14,
   "metadata": {},
   "outputs": [
    {
     "data": {
      "text/plain": [
       "array([[-0.01122953, -0.1179238 , -1.08012345, ...,  0.72435582,\n",
       "        -0.95641449, -0.44430459],\n",
       "       [-0.08057188, -0.6077306 ,  0.9258201 , ..., -1.38053698,\n",
       "        -0.95641449,  0.72733135],\n",
       "       [-0.01122953, -0.70569196,  0.9258201 , ...,  0.72435582,\n",
       "         1.04557178,  0.72733135],\n",
       "       ...,\n",
       "       [-1.32873411, -0.6077306 ,  0.9258201 , ...,  0.72435582,\n",
       "        -0.95641449,  0.72733135],\n",
       "       [ 1.65298678, -0.1179238 ,  0.9258201 , ...,  0.72435582,\n",
       "         1.04557178, -0.44430459],\n",
       "       [-0.08057188, -0.6077306 ,  0.9258201 , ..., -1.38053698,\n",
       "        -0.95641449,  0.72733135]])"
      ]
     },
     "execution_count": 14,
     "metadata": {},
     "output_type": "execute_result"
    }
   ],
   "source": [
    "#Normalizing the data\n",
    "from sklearn.preprocessing import StandardScaler\n",
    "scaler=StandardScaler()\n",
    "scaler.fit(x_train)\n",
    "x_train=scaler.transform(x_train)\n",
    "x_test=scaler.transform(x_test)\n",
    "x_train"
   ]
  },
  {
   "cell_type": "code",
   "execution_count": 15,
   "metadata": {},
   "outputs": [
    {
     "data": {
      "text/plain": [
       "array(['high', 'low', 'medium', 'low', 'high', 'medium', 'low', 'high',\n",
       "       'high', 'medium', 'low', 'high', 'medium', 'medium', 'high',\n",
       "       'medium', 'medium', 'medium', 'high', 'low', 'high', 'low',\n",
       "       'medium', 'high', 'high', 'low', 'high', 'high', 'low', 'medium',\n",
       "       'high', 'low', 'low', 'medium', 'high', 'high', 'low', 'high',\n",
       "       'high', 'low', 'high', 'medium', 'high', 'low', 'medium', 'low',\n",
       "       'high', 'low', 'medium', 'low', 'high', 'medium', 'medium',\n",
       "       'medium', 'low', 'medium', 'medium', 'low', 'medium', 'low',\n",
       "       'medium', 'low', 'medium', 'high', 'low', 'medium', 'low',\n",
       "       'medium', 'medium', 'high', 'high', 'medium', 'medium', 'high',\n",
       "       'medium', 'medium', 'medium', 'low', 'high', 'medium', 'low',\n",
       "       'low', 'medium', 'low', 'medium', 'medium', 'high', 'low', 'high',\n",
       "       'low', 'medium', 'high', 'medium', 'low', 'high', 'medium', 'low',\n",
       "       'high', 'medium', 'medium', 'medium', 'medium', 'low', 'medium',\n",
       "       'high', 'high', 'high', 'high', 'low', 'low', 'high', 'high',\n",
       "       'high', 'high', 'low', 'medium', 'low', 'high', 'medium', 'high',\n",
       "       'medium', 'medium', 'low', 'high', 'high', 'low', 'low', 'low',\n",
       "       'medium', 'high', 'low', 'medium', 'low', 'medium', 'high',\n",
       "       'medium', 'medium', 'medium', 'medium', 'low', 'medium', 'high',\n",
       "       'low', 'low', 'medium', 'high', 'low', 'low', 'low', 'medium',\n",
       "       'medium', 'medium', 'medium', 'low', 'high', 'high', 'medium',\n",
       "       'medium', 'medium', 'medium', 'medium', 'medium', 'low', 'medium',\n",
       "       'medium', 'high', 'high', 'low', 'medium', 'medium', 'low', 'low',\n",
       "       'medium', 'high', 'high', 'low', 'high', 'high', 'high', 'medium',\n",
       "       'medium', 'low', 'low', 'low', 'low', 'high', 'medium', 'medium',\n",
       "       'low', 'low', 'high', 'low', 'low', 'low', 'medium', 'low',\n",
       "       'medium', 'medium', 'high', 'medium', 'low', 'high', 'medium',\n",
       "       'low', 'medium', 'medium', 'low', 'medium', 'medium', 'low',\n",
       "       'high', 'medium', 'medium', 'medium', 'medium', 'medium', 'high',\n",
       "       'medium', 'high', 'low', 'high', 'high', 'medium', 'medium',\n",
       "       'medium', 'low', 'low', 'medium', 'high', 'high', 'high', 'low',\n",
       "       'low', 'high', 'low', 'medium', 'low', 'low', 'low', 'high', 'low',\n",
       "       'high', 'low', 'medium', 'high', 'low', 'medium', 'medium', 'low',\n",
       "       'low', 'medium', 'low', 'high', 'low', 'low', 'low', 'high', 'low',\n",
       "       'high', 'low', 'low', 'medium', 'medium', 'low', 'medium',\n",
       "       'medium', 'low', 'medium', 'medium', 'medium', 'medium', 'medium',\n",
       "       'low', 'low', 'low', 'high', 'medium', 'low', 'low', 'medium',\n",
       "       'medium', 'low', 'high', 'high', 'low', 'medium', 'high', 'medium',\n",
       "       'medium', 'medium', 'low', 'medium', 'low', 'low', 'low', 'low',\n",
       "       'low', 'low', 'low', 'low', 'medium', 'medium', 'low', 'medium',\n",
       "       'medium', 'medium', 'medium', 'low', 'medium', 'medium', 'medium',\n",
       "       'low', 'low', 'low', 'high', 'low', 'high', 'low'], dtype=object)"
      ]
     },
     "execution_count": 15,
     "metadata": {},
     "output_type": "execute_result"
    }
   ],
   "source": [
    "#Model creation\n",
    "from sklearn.neighbors import KNeighborsClassifier\n",
    "knn=KNeighborsClassifier(n_neighbors=7)\n",
    "knn.fit(x_train,y_train)\n",
    "y_pred=knn.predict(x_test)\n",
    "y_pred"
   ]
  },
  {
   "cell_type": "code",
   "execution_count": 16,
   "metadata": {},
   "outputs": [
    {
     "name": "stdout",
     "output_type": "stream",
     "text": [
      "['medium']\n"
     ]
    }
   ],
   "source": [
    "#Predict output for a random value\n",
    "print(knn.predict(scaler.transform([[6.6,37,0,0,0,0,255]])))"
   ]
  },
  {
   "cell_type": "code",
   "execution_count": 17,
   "metadata": {},
   "outputs": [
    {
     "data": {
      "text/plain": [
       "array([[ 79,   0,   7],\n",
       "       [  2, 112,   2],\n",
       "       [  0,   1, 115]], dtype=int64)"
      ]
     },
     "execution_count": 17,
     "metadata": {},
     "output_type": "execute_result"
    }
   ],
   "source": [
    "#Confusion matrix\n",
    "from sklearn.metrics import confusion_matrix\n",
    "cm=confusion_matrix(y_test,y_pred)\n",
    "cm"
   ]
  },
  {
   "cell_type": "code",
   "execution_count": 18,
   "metadata": {},
   "outputs": [
    {
     "data": {
      "text/plain": [
       "array(['medium', 'medium', 'high', 'low', 'low', 'medium', 'medium',\n",
       "       'high', 'low', 'high', 'low', 'low', 'high', 'low', 'medium',\n",
       "       'low', 'medium', 'high', 'medium', 'medium', 'low', 'low',\n",
       "       'medium', 'high', 'low', 'low', 'high', 'medium', 'high', 'low',\n",
       "       'low', 'low', 'high', 'medium', 'medium', 'low', 'medium',\n",
       "       'medium', 'high', 'low', 'low', 'low', 'low', 'high', 'high',\n",
       "       'high', 'low', 'medium', 'low', 'medium', 'medium', 'medium',\n",
       "       'high', 'medium', 'low', 'high', 'medium', 'medium', 'low', 'high',\n",
       "       'medium', 'high', 'medium', 'low', 'low', 'medium', 'low', 'low',\n",
       "       'low', 'medium', 'medium', 'low', 'medium', 'high', 'low', 'low',\n",
       "       'medium', 'low', 'low', 'low', 'low', 'medium', 'medium', 'medium',\n",
       "       'medium', 'high', 'medium', 'low', 'medium', 'low', 'high',\n",
       "       'medium', 'low', 'low', 'medium', 'low', 'high', 'medium', 'low',\n",
       "       'low', 'low', 'medium', 'low', 'medium', 'low', 'medium', 'medium',\n",
       "       'low', 'low', 'low', 'high', 'medium', 'medium', 'low', 'high',\n",
       "       'low', 'medium', 'high', 'low', 'low', 'low', 'low', 'medium',\n",
       "       'high', 'low', 'medium', 'medium', 'medium', 'medium', 'high',\n",
       "       'high', 'low', 'low', 'medium', 'low', 'low', 'medium', 'high',\n",
       "       'low', 'low', 'high', 'high', 'medium', 'high', 'high', 'low',\n",
       "       'high', 'low', 'high', 'low', 'medium', 'low', 'medium', 'low',\n",
       "       'high', 'medium', 'low', 'low', 'low', 'low', 'low', 'high', 'low',\n",
       "       'high', 'medium', 'low', 'low', 'medium', 'low', 'low', 'high',\n",
       "       'medium', 'medium', 'medium', 'medium', 'high', 'low', 'medium',\n",
       "       'low', 'high', 'high', 'high', 'high', 'high', 'low', 'low', 'low',\n",
       "       'medium', 'high', 'low', 'high', 'low', 'high', 'medium', 'medium',\n",
       "       'medium', 'low', 'medium', 'medium', 'low', 'high', 'medium',\n",
       "       'medium', 'medium', 'medium', 'high', 'low', 'high', 'low', 'high',\n",
       "       'low', 'low', 'low', 'low', 'medium', 'medium', 'low', 'low',\n",
       "       'low', 'medium', 'high', 'medium', 'high', 'low', 'low', 'medium',\n",
       "       'high', 'low', 'medium', 'low', 'high', 'low', 'high', 'medium',\n",
       "       'medium', 'low', 'medium', 'high', 'high', 'high', 'low', 'low',\n",
       "       'low', 'medium', 'low', 'high', 'low', 'medium', 'high', 'low',\n",
       "       'high', 'medium', 'high', 'low', 'low', 'low', 'high', 'low',\n",
       "       'medium', 'medium', 'low', 'low', 'low', 'medium', 'low', 'low',\n",
       "       'medium', 'high', 'high', 'medium', 'low', 'low', 'medium',\n",
       "       'medium', 'high', 'low', 'low', 'low', 'high', 'high', 'medium',\n",
       "       'medium', 'low', 'high', 'low', 'medium', 'medium', 'low', 'low',\n",
       "       'low', 'high', 'medium', 'medium', 'low', 'low', 'medium', 'high',\n",
       "       'medium', 'low', 'low', 'low', 'low', 'low', 'high', 'low',\n",
       "       'medium', 'high', 'low', 'low', 'low', 'low', 'medium', 'high',\n",
       "       'low', 'low', 'low', 'medium', 'high', 'high', 'medium', 'medium',\n",
       "       'medium', 'high', 'medium', 'low', 'medium', 'low', 'low', 'high',\n",
       "       'high', 'high', 'high', 'medium', 'low', 'medium', 'medium',\n",
       "       'medium', 'medium', 'high', 'high', 'low', 'low', 'low', 'medium',\n",
       "       'medium', 'medium', 'medium', 'high', 'medium', 'low', 'low',\n",
       "       'low', 'medium', 'medium', 'low', 'high', 'low', 'high', 'medium',\n",
       "       'low', 'medium', 'low', 'low', 'low', 'low', 'low', 'high', 'high',\n",
       "       'medium', 'medium', 'low', 'medium', 'high', 'low', 'low', 'low',\n",
       "       'low', 'low', 'medium', 'medium', 'medium', 'high', 'low',\n",
       "       'medium', 'low', 'medium', 'medium', 'low', 'high', 'low', 'low',\n",
       "       'low', 'low', 'medium', 'medium', 'low', 'medium', 'medium', 'low',\n",
       "       'low', 'medium', 'low', 'low', 'medium', 'low', 'low', 'medium',\n",
       "       'medium', 'high', 'low', 'high', 'medium', 'low', 'medium', 'high',\n",
       "       'low', 'low', 'low', 'low', 'low', 'medium', 'medium', 'medium',\n",
       "       'high', 'low', 'medium', 'low', 'low', 'medium', 'low', 'low',\n",
       "       'high', 'medium', 'low', 'high', 'high', 'high', 'high', 'medium',\n",
       "       'low', 'medium', 'low', 'low', 'low', 'medium', 'low', 'low',\n",
       "       'high', 'low', 'medium', 'low', 'low', 'low', 'medium', 'low',\n",
       "       'medium', 'high', 'medium', 'medium', 'high', 'high', 'medium',\n",
       "       'low', 'medium', 'low', 'high', 'low', 'medium', 'high', 'medium',\n",
       "       'low', 'medium', 'medium', 'low', 'low', 'medium', 'medium',\n",
       "       'medium', 'high', 'medium', 'medium', 'low', 'medium', 'low',\n",
       "       'low', 'low', 'low', 'high', 'medium', 'low', 'high', 'low',\n",
       "       'high', 'medium', 'low', 'low', 'high', 'low', 'high', 'medium',\n",
       "       'high', 'medium', 'high', 'medium', 'low', 'medium', 'low',\n",
       "       'medium', 'medium', 'low', 'high', 'medium', 'low', 'medium',\n",
       "       'high', 'high', 'low', 'low', 'low', 'low', 'high', 'low', 'low',\n",
       "       'high', 'high', 'high', 'high', 'low', 'medium', 'low', 'high',\n",
       "       'medium', 'high', 'low', 'medium', 'low', 'medium', 'high', 'low',\n",
       "       'low', 'high', 'low', 'high', 'low', 'medium', 'medium', 'medium',\n",
       "       'high', 'high', 'low', 'low', 'low', 'low', 'low', 'low', 'low',\n",
       "       'low', 'low', 'low', 'low', 'low', 'medium', 'medium', 'medium',\n",
       "       'low', 'low', 'high', 'high', 'high', 'medium', 'low', 'low',\n",
       "       'high', 'low', 'low', 'medium', 'medium', 'low', 'low', 'low',\n",
       "       'low', 'medium', 'medium', 'medium', 'medium', 'medium', 'high',\n",
       "       'high', 'medium', 'high', 'low', 'low', 'medium', 'high', 'medium',\n",
       "       'medium', 'low', 'medium', 'low', 'low', 'low', 'medium', 'medium',\n",
       "       'medium', 'low', 'medium', 'low', 'high', 'medium', 'high', 'high',\n",
       "       'medium', 'low', 'medium', 'high', 'medium', 'high', 'low', 'low',\n",
       "       'high', 'medium', 'low', 'medium', 'high', 'low', 'medium',\n",
       "       'medium', 'medium', 'medium', 'high', 'medium', 'medium', 'medium',\n",
       "       'medium', 'medium', 'medium', 'medium', 'low', 'high', 'low',\n",
       "       'high', 'medium', 'medium', 'medium', 'high', 'high', 'medium',\n",
       "       'high', 'high', 'high', 'high', 'low', 'medium', 'low', 'low',\n",
       "       'high', 'high', 'high', 'high', 'low', 'medium', 'low', 'medium',\n",
       "       'medium', 'medium', 'low', 'medium', 'low', 'low', 'low', 'medium',\n",
       "       'medium', 'medium', 'low', 'medium', 'medium', 'high', 'low',\n",
       "       'low', 'low', 'high', 'medium', 'low', 'medium', 'medium', 'low',\n",
       "       'high', 'low', 'low', 'high', 'medium', 'high', 'high', 'medium',\n",
       "       'low', 'low', 'low', 'high', 'high', 'medium', 'low', 'low', 'low',\n",
       "       'medium', 'low', 'medium', 'medium', 'high', 'low', 'medium',\n",
       "       'medium', 'medium', 'medium', 'low', 'medium', 'medium', 'medium',\n",
       "       'low', 'low', 'high', 'low', 'medium', 'medium', 'low', 'high',\n",
       "       'low', 'low', 'medium', 'low', 'low', 'low', 'low', 'medium',\n",
       "       'medium', 'low', 'high', 'medium', 'low', 'low', 'low', 'medium'],\n",
       "      dtype=object)"
      ]
     },
     "execution_count": 18,
     "metadata": {},
     "output_type": "execute_result"
    }
   ],
   "source": [
    "#Displaying confusion matrix\n",
    "#labels order check from y_train\n",
    "y_train"
   ]
  },
  {
   "cell_type": "code",
   "execution_count": 19,
   "metadata": {},
   "outputs": [
    {
     "data": {
      "text/plain": [
       "<sklearn.metrics._plot.confusion_matrix.ConfusionMatrixDisplay at 0x1f28d98a390>"
      ]
     },
     "execution_count": 19,
     "metadata": {},
     "output_type": "execute_result"
    },
    {
     "data": {
      "image/png": "[encoded data removed]",
      "text/plain": [
       "<Figure size 640x480 with 2 Axes>"
      ]
     },
     "metadata": {},
     "output_type": "display_data"
    }
   ],
   "source": [
    "\n",
    "from sklearn.metrics import ConfusionMatrixDisplay\n",
    "labels=['medium','high','low']\n",
    "cmd=ConfusionMatrixDisplay(cm,display_labels=labels)\n",
    "cmd.plot()"
   ]
  },
  {
   "cell_type": "code",
   "execution_count": 20,
   "metadata": {},
   "outputs": [
    {
     "data": {
      "text/plain": [
       "0.9622641509433962"
      ]
     },
     "execution_count": 20,
     "metadata": {},
     "output_type": "execute_result"
    }
   ],
   "source": [
    "#Accuracy score\n",
    "from sklearn.metrics import accuracy_score\n",
    "score=accuracy_score(y_test,y_pred)\n",
    "score"
   ]
  },
  {
   "cell_type": "code",
   "execution_count": 21,
   "metadata": {},
   "outputs": [
    {
     "data": {
      "text/plain": [
       "0.9878542510121457"
      ]
     },
     "execution_count": 21,
     "metadata": {},
     "output_type": "execute_result"
    }
   ],
   "source": [
    "train_accuracy =accuracy_score(y_train, knn.predict(x_train))\n",
    "train_accuracy"
   ]
  },
  {
   "cell_type": "code",
   "execution_count": 22,
   "metadata": {},
   "outputs": [
    {
     "name": "stdout",
     "output_type": "stream",
     "text": [
      "              precision    recall  f1-score   support\n",
      "\n",
      "        high       0.98      0.92      0.95        86\n",
      "         low       0.99      0.97      0.98       116\n",
      "      medium       0.93      0.99      0.96       116\n",
      "\n",
      "    accuracy                           0.96       318\n",
      "   macro avg       0.96      0.96      0.96       318\n",
      "weighted avg       0.96      0.96      0.96       318\n",
      "\n"
     ]
    }
   ],
   "source": [
    "#Classification report based on training and testing data\n",
    "from sklearn.metrics import classification_report\n",
    "cr=classification_report(y_test,y_pred)\n",
    "print(cr)"
   ]
  },
  {
   "cell_type": "code",
   "execution_count": null,
   "metadata": {},
   "outputs": [],
   "source": []
  }
 ],
 "metadata": {
  "kernelspec": {
   "display_name": "base",
   "language": "python",
   "name": "python3"
  },
  "language_info": {
   "codemirror_mode": {
    "name": "ipython",
    "version": 3
   },
   "file_extension": ".py",
   "mimetype": "text/x-python",
   "name": "python",
   "nbconvert_exporter": "python",
   "pygments_lexer": "ipython3",
   "version": "3.11.7"
  }
 },
 "nbformat": 4,
 "nbformat_minor": 2
}
